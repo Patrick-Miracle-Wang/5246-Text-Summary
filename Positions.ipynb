{
 "cells": [
  {
   "cell_type": "code",
   "execution_count": 1,
   "metadata": {},
   "outputs": [],
   "source": [
    "import pandas as pd \n",
    "# import nltk\n",
    "# nltk.download('punkt') # one time execution\n",
    "from sklearn.feature_extraction.text import TfidfVectorizer\n",
    "from sklearn.metrics.pairwise import cosine_similarity\n",
    "import numpy as np\n",
    "from nltk.tokenize import sent_tokenize\n"
   ]
  },
  {
   "cell_type": "code",
   "execution_count": 2,
   "metadata": {},
   "outputs": [],
   "source": [
    "# train = pd.read_csv('../dataset/train_sample.csv')\n",
    "# train = pd.read_csv('../dataset/train.csv')\n",
    "# test = pd.read_csv('../dataset/test.csv')\n",
    "# valid = pd.read_csv('../dataset/validation.csv')\n",
    "# data = pd.concat([train, test, valid], axis=0)\n",
    "# data = data.head(100)\n",
    "# data\n",
    "\n",
    "# data = pd.read_csv('../dataset/train.csv')\n",
    "data=pd.read_csv('../dataset/train.csv')\n",
    "data = data.head(10000)\n",
    "# data = data.sample(frac=0.2, random_state=42)"
   ]
  },
  {
   "cell_type": "code",
   "execution_count": 3,
   "metadata": {},
   "outputs": [],
   "source": [
    "# text cleaning\n",
    "from nltk.corpus import stopwords\n",
    "stop_words = stopwords.words('english')\n",
    "\n",
    "# function to remove stopwords\n",
    "def remove_stopwords(sen):\n",
    "    sen_new = \" \".join([i for i in sen if i not in stop_words])\n",
    "    return sen_new"
   ]
  },
  {
   "cell_type": "markdown",
   "metadata": {},
   "source": [
    "### TF-IDF 句子结构"
   ]
  },
  {
   "cell_type": "code",
   "execution_count": 4,
   "metadata": {},
   "outputs": [
    {
     "name": "stdout",
     "output_type": "stream",
     "text": [
      "[[0.82203923 0.15766434]]\n"
     ]
    }
   ],
   "source": [
    "\n",
    "\n",
    "# 示例句子\n",
    "sentences = [\n",
    "    \"This is a sample sentence.\",\n",
    "    \"This is another sample sentence.\",\n",
    "    \"Completely different sentence.\"\n",
    "]\n",
    "\n",
    "# 初始化TF-IDF向量化器\n",
    "vectorizer = TfidfVectorizer()\n",
    "\n",
    "# 构建TF-IDF矩阵\n",
    "tfidf_matrix = vectorizer.fit_transform(sentences)\n",
    "\n",
    "# 计算第一个句子与其他句子的相似度\n",
    "cosine_similarities = cosine_similarity(tfidf_matrix[0:1], tfidf_matrix[1:])\n",
    "\n",
    "print(cosine_similarities)\n"
   ]
  },
  {
   "cell_type": "code",
   "execution_count": 5,
   "metadata": {},
   "outputs": [
    {
     "data": {
      "text/html": [
       "<style>#sk-container-id-1 {color: black;}#sk-container-id-1 pre{padding: 0;}#sk-container-id-1 div.sk-toggleable {background-color: white;}#sk-container-id-1 label.sk-toggleable__label {cursor: pointer;display: block;width: 100%;margin-bottom: 0;padding: 0.3em;box-sizing: border-box;text-align: center;}#sk-container-id-1 label.sk-toggleable__label-arrow:before {content: \"▸\";float: left;margin-right: 0.25em;color: #696969;}#sk-container-id-1 label.sk-toggleable__label-arrow:hover:before {color: black;}#sk-container-id-1 div.sk-estimator:hover label.sk-toggleable__label-arrow:before {color: black;}#sk-container-id-1 div.sk-toggleable__content {max-height: 0;max-width: 0;overflow: hidden;text-align: left;background-color: #f0f8ff;}#sk-container-id-1 div.sk-toggleable__content pre {margin: 0.2em;color: black;border-radius: 0.25em;background-color: #f0f8ff;}#sk-container-id-1 input.sk-toggleable__control:checked~div.sk-toggleable__content {max-height: 200px;max-width: 100%;overflow: auto;}#sk-container-id-1 input.sk-toggleable__control:checked~label.sk-toggleable__label-arrow:before {content: \"▾\";}#sk-container-id-1 div.sk-estimator input.sk-toggleable__control:checked~label.sk-toggleable__label {background-color: #d4ebff;}#sk-container-id-1 div.sk-label input.sk-toggleable__control:checked~label.sk-toggleable__label {background-color: #d4ebff;}#sk-container-id-1 input.sk-hidden--visually {border: 0;clip: rect(1px 1px 1px 1px);clip: rect(1px, 1px, 1px, 1px);height: 1px;margin: -1px;overflow: hidden;padding: 0;position: absolute;width: 1px;}#sk-container-id-1 div.sk-estimator {font-family: monospace;background-color: #f0f8ff;border: 1px dotted black;border-radius: 0.25em;box-sizing: border-box;margin-bottom: 0.5em;}#sk-container-id-1 div.sk-estimator:hover {background-color: #d4ebff;}#sk-container-id-1 div.sk-parallel-item::after {content: \"\";width: 100%;border-bottom: 1px solid gray;flex-grow: 1;}#sk-container-id-1 div.sk-label:hover label.sk-toggleable__label {background-color: #d4ebff;}#sk-container-id-1 div.sk-serial::before {content: \"\";position: absolute;border-left: 1px solid gray;box-sizing: border-box;top: 0;bottom: 0;left: 50%;z-index: 0;}#sk-container-id-1 div.sk-serial {display: flex;flex-direction: column;align-items: center;background-color: white;padding-right: 0.2em;padding-left: 0.2em;position: relative;}#sk-container-id-1 div.sk-item {position: relative;z-index: 1;}#sk-container-id-1 div.sk-parallel {display: flex;align-items: stretch;justify-content: center;background-color: white;position: relative;}#sk-container-id-1 div.sk-item::before, #sk-container-id-1 div.sk-parallel-item::before {content: \"\";position: absolute;border-left: 1px solid gray;box-sizing: border-box;top: 0;bottom: 0;left: 50%;z-index: -1;}#sk-container-id-1 div.sk-parallel-item {display: flex;flex-direction: column;z-index: 1;position: relative;background-color: white;}#sk-container-id-1 div.sk-parallel-item:first-child::after {align-self: flex-end;width: 50%;}#sk-container-id-1 div.sk-parallel-item:last-child::after {align-self: flex-start;width: 50%;}#sk-container-id-1 div.sk-parallel-item:only-child::after {width: 0;}#sk-container-id-1 div.sk-dashed-wrapped {border: 1px dashed gray;margin: 0 0.4em 0.5em 0.4em;box-sizing: border-box;padding-bottom: 0.4em;background-color: white;}#sk-container-id-1 div.sk-label label {font-family: monospace;font-weight: bold;display: inline-block;line-height: 1.2em;}#sk-container-id-1 div.sk-label-container {text-align: center;}#sk-container-id-1 div.sk-container {/* jupyter's `normalize.less` sets `[hidden] { display: none; }` but bootstrap.min.css set `[hidden] { display: none !important; }` so we also need the `!important` here to be able to override the default hidden behavior on the sphinx rendered scikit-learn.org. See: https://github.com/scikit-learn/scikit-learn/issues/21755 */display: inline-block !important;position: relative;}#sk-container-id-1 div.sk-text-repr-fallback {display: none;}</style><div id=\"sk-container-id-1\" class=\"sk-top-container\"><div class=\"sk-text-repr-fallback\"><pre>TfidfVectorizer(stop_words=&#x27;english&#x27;)</pre><b>In a Jupyter environment, please rerun this cell to show the HTML representation or trust the notebook. <br />On GitHub, the HTML representation is unable to render, please try loading this page with nbviewer.org.</b></div><div class=\"sk-container\" hidden><div class=\"sk-item\"><div class=\"sk-estimator sk-toggleable\"><input class=\"sk-toggleable__control sk-hidden--visually\" id=\"sk-estimator-id-1\" type=\"checkbox\" checked><label for=\"sk-estimator-id-1\" class=\"sk-toggleable__label sk-toggleable__label-arrow\">TfidfVectorizer</label><div class=\"sk-toggleable__content\"><pre>TfidfVectorizer(stop_words=&#x27;english&#x27;)</pre></div></div></div></div></div>"
      ],
      "text/plain": [
       "TfidfVectorizer(stop_words='english')"
      ]
     },
     "execution_count": 5,
     "metadata": {},
     "output_type": "execute_result"
    }
   ],
   "source": [
    "\n",
    "# 预处理函数，这里简化为仅分割句子，实际应用中可能需要更复杂的处理\n",
    "def preprocess(text):\n",
    "    text = text.strip().lower()\n",
    "    text = sent_tokenize(text)\n",
    "    return text\n",
    "\n",
    "# 准备所有句子用于训练TF-IDF\n",
    "all_sentences = []\n",
    "for _, row in data.iterrows():\n",
    "    all_sentences.extend(preprocess(row['article']))\n",
    "    # all_sentences.extend(preprocess(row['highlights']))\n",
    "\n",
    "# 训练TF-IDF向量化器\n",
    "# vectorizer = TfidfVectorizer(ngram_range=(1,3), stop_words='english')\n",
    "vectorizer = TfidfVectorizer(stop_words='english')\n",
    "\n",
    "vectorizer.fit(all_sentences)\n",
    "\n"
   ]
  },
  {
   "cell_type": "code",
   "execution_count": 6,
   "metadata": {},
   "outputs": [],
   "source": [
    "\n",
    "# 定义一个函数计算并返回每个highlight与article中最相似句子的索引\n",
    "def find_most_similar_highlight(row):\n",
    "    article_sentences = preprocess(row['article'])\n",
    "    highlight_sentences = preprocess(row['highlights'])\n",
    "    \n",
    "    # 得到TF-IDF向量\n",
    "    article_tfidf = vectorizer.transform(article_sentences)\n",
    "    highlights_tfidf = vectorizer.transform(highlight_sentences)\n",
    "    \n",
    "    # 计算相似度并找到最相似的句子\n",
    "    similarity_matrix = cosine_similarity(highlights_tfidf, article_tfidf)\n",
    "    \n",
    "    # 对于每个highlight，找到与其最相似的文章句子的索引\n",
    "    most_similar_indices = similarity_matrix.argmax(axis=1)\n",
    "\n",
    "    # partitions\n",
    "    relative_positions = (most_similar_indices + 1) / len(article_sentences) * 100\n",
    "\n",
    "    # the positional index falls into the bins\n",
    "    # 定义20个分箱的边界（0到100之间等间隔的21个点）\n",
    "    bins = np.linspace(0, 100, num=51)\n",
    "\n",
    "    # 使用digitize找出每个位置所属的分箱\n",
    "    bin_indices = np.digitize(relative_positions, bins=bins, right=True)\n",
    "    \n",
    "    return most_similar_indices, bin_indices\n"
   ]
  },
  {
   "cell_type": "code",
   "execution_count": 7,
   "metadata": {},
   "outputs": [
    {
     "data": {
      "text/plain": [
       "array([  0.,   5.,  10.,  15.,  20.,  25.,  30.,  35.,  40.,  45.,  50.,\n",
       "        55.,  60.,  65.,  70.,  75.,  80.,  85.,  90.,  95., 100.])"
      ]
     },
     "execution_count": 7,
     "metadata": {},
     "output_type": "execute_result"
    }
   ],
   "source": [
    "np.linspace(0, 100, num=21)"
   ]
  },
  {
   "cell_type": "code",
   "execution_count": 8,
   "metadata": {},
   "outputs": [],
   "source": [
    "data[['most_similar_indices', 'bin_indices']] = data.apply(find_most_similar_highlight, axis=1, result_type='expand')"
   ]
  },
  {
   "cell_type": "code",
   "execution_count": 9,
   "metadata": {},
   "outputs": [],
   "source": [
    "key_sentence_position = []\n",
    "for s in data['bin_indices'].tolist():\n",
    "    for i in list(s):\n",
    "        key_sentence_position.append(i)"
   ]
  },
  {
   "cell_type": "code",
   "execution_count": 10,
   "metadata": {},
   "outputs": [
    {
     "data": {
      "text/plain": [
       "36641"
      ]
     },
     "execution_count": 10,
     "metadata": {},
     "output_type": "execute_result"
    }
   ],
   "source": [
    "len(key_sentence_position)"
   ]
  },
  {
   "cell_type": "code",
   "execution_count": 12,
   "metadata": {},
   "outputs": [
    {
     "data": {
      "image/png": "[encoded data removed]",
      "text/plain": [
       "<Figure size 2000x500 with 1 Axes>"
      ]
     },
     "metadata": {},
     "output_type": "display_data"
    }
   ],
   "source": [
    "import seaborn as sns \n",
    "import matplotlib.pyplot as plt\n",
    "plt.figure(figsize=(20, 5))\n",
    "sns.countplot(x=key_sentence_position, color='skyblue')\n",
    "\n",
    "# 定义你的bins边界\n",
    "bins_edges = np.linspace(0, 100, num=51)\n",
    "\n",
    "# 因为你的countplot中应该有20个bins，我们要确保xticks中的数量与bins_edges匹配\n",
    "plt.xticks(ticks=np.arange(0, 50), labels=bins_edges[:-1].astype(int))\n",
    "plt.xlim(-1)\n",
    "plt.xlabel('The relative positions of key sentences in an article (Top%)')\n",
    "plt.ylabel('Coverage situation')\n",
    "plt.title('The position distribution of core sentences in the news')\n",
    "plt.savefig('sentence_distribution.png', dpi=300)\n",
    "plt.show()\n"
   ]
  },
  {
   "cell_type": "code",
   "execution_count": 14,
   "metadata": {},
   "outputs": [
    {
     "data": {
      "text/plain": [
       "<Axes: ylabel='Density'>"
      ]
     },
     "execution_count": 14,
     "metadata": {},
     "output_type": "execute_result"
    },
    {
     "data": {
      "image/png": "[encoded data removed]",
      "text/plain": [
       "<Figure size 640x480 with 1 Axes>"
      ]
     },
     "metadata": {},
     "output_type": "display_data"
    }
   ],
   "source": [
    "sns.kdeplot(key_sentence_position)"
   ]
  },
  {
   "cell_type": "code",
   "execution_count": 15,
   "metadata": {},
   "outputs": [
    {
     "data": {
      "text/html": [
       "<div>\n",
       "<style scoped>\n",
       "    .dataframe tbody tr th:only-of-type {\n",
       "        vertical-align: middle;\n",
       "    }\n",
       "\n",
       "    .dataframe tbody tr th {\n",
       "        vertical-align: top;\n",
       "    }\n",
       "\n",
       "    .dataframe thead th {\n",
       "        text-align: right;\n",
       "    }\n",
       "</style>\n",
       "<table border=\"1\" class=\"dataframe\">\n",
       "  <thead>\n",
       "    <tr style=\"text-align: right;\">\n",
       "      <th></th>\n",
       "      <th>id</th>\n",
       "      <th>article</th>\n",
       "      <th>highlights</th>\n",
       "      <th>most_similar_indices</th>\n",
       "      <th>bin_indices</th>\n",
       "    </tr>\n",
       "  </thead>\n",
       "  <tbody>\n",
       "    <tr>\n",
       "      <th>0</th>\n",
       "      <td>0001d1afc246a7964130f43ae940af6bc6c57f01</td>\n",
       "      <td>By . Associated Press . PUBLISHED: . 14:11 EST...</td>\n",
       "      <td>Bishop John Folda, of North Dakota, is taking ...</td>\n",
       "      <td>[11, 11, 7]</td>\n",
       "      <td>[43, 43, 29]</td>\n",
       "    </tr>\n",
       "    <tr>\n",
       "      <th>1</th>\n",
       "      <td>0002095e55fcbd3a2f366d9bf92a95433dc305ef</td>\n",
       "      <td>(CNN) -- Ralph Mata was an internal affairs li...</td>\n",
       "      <td>Criminal complaint: Cop used his role to help ...</td>\n",
       "      <td>[6, 0, 3]</td>\n",
       "      <td>[20, 3, 12]</td>\n",
       "    </tr>\n",
       "    <tr>\n",
       "      <th>2</th>\n",
       "      <td>00027e965c8264c35cc1bc55556db388da82b07f</td>\n",
       "      <td>A drunk driver who killed a young woman in a h...</td>\n",
       "      <td>Craig Eccleston-Todd, 27, had drunk at least t...</td>\n",
       "      <td>[5, 17, 3, 16, 6]</td>\n",
       "      <td>[10, 28, 7, 26, 11]</td>\n",
       "    </tr>\n",
       "    <tr>\n",
       "      <th>3</th>\n",
       "      <td>0002c17436637c4fe1837c935c04de47adb18e9a</td>\n",
       "      <td>(CNN) -- With a breezy sweep of his pen Presid...</td>\n",
       "      <td>Nina dos Santos says Europe must be ready to a...</td>\n",
       "      <td>[13, 14, 19]</td>\n",
       "      <td>[32, 35, 46]</td>\n",
       "    </tr>\n",
       "    <tr>\n",
       "      <th>4</th>\n",
       "      <td>0003ad6ef0c37534f80b55b4235108024b407f0b</td>\n",
       "      <td>Fleetwood are the only team still to have a 10...</td>\n",
       "      <td>Fleetwood top of League One after 2-0 win at S...</td>\n",
       "      <td>[0, 2, 15, 18, 20, 22]</td>\n",
       "      <td>[3, 7, 34, 40, 44, 48]</td>\n",
       "    </tr>\n",
       "    <tr>\n",
       "      <th>...</th>\n",
       "      <td>...</td>\n",
       "      <td>...</td>\n",
       "      <td>...</td>\n",
       "      <td>...</td>\n",
       "      <td>...</td>\n",
       "    </tr>\n",
       "    <tr>\n",
       "      <th>9995</th>\n",
       "      <td>1c5f649f94e8f20b6fe624a842302208b781edbc</td>\n",
       "      <td>A renowned poet was murdered by her stepson in...</td>\n",
       "      <td>Police found writer's body dead after family r...</td>\n",
       "      <td>[1, 5, 0, 6, 0]</td>\n",
       "      <td>[6, 17, 3, 20, 3]</td>\n",
       "    </tr>\n",
       "    <tr>\n",
       "      <th>9996</th>\n",
       "      <td>1c5f8a16032bff0ac292e80d33d9c473323db7aa</td>\n",
       "      <td>(Health.com) -- A class of injectable drugs us...</td>\n",
       "      <td>The research contradicts numerous earlier stud...</td>\n",
       "      <td>[1, 6, 13]</td>\n",
       "      <td>[4, 11, 22]</td>\n",
       "    </tr>\n",
       "    <tr>\n",
       "      <th>9997</th>\n",
       "      <td>1c6060b597d97f86d96e7df9ecfc29517f7bbae4</td>\n",
       "      <td>By . Rob Cooper . A mother who accidentally lo...</td>\n",
       "      <td>Nicola Millar, 36, was unable to pay the fee a...</td>\n",
       "      <td>[3, 6, 15, 23]</td>\n",
       "      <td>[7, 12, 26, 39]</td>\n",
       "    </tr>\n",
       "    <tr>\n",
       "      <th>9998</th>\n",
       "      <td>1c613f908ae6868f2d43cfe5ac75c5d35bfd734b</td>\n",
       "      <td>They are hated by many as an eyesore on the co...</td>\n",
       "      <td>Google is developing  machines which will be t...</td>\n",
       "      <td>[4, 14, 10, 15]</td>\n",
       "      <td>[12, 36, 27, 39]</td>\n",
       "    </tr>\n",
       "    <tr>\n",
       "      <th>9999</th>\n",
       "      <td>1c61b5bd8b09b4f3a26aa740a7f7e11814fd2e61</td>\n",
       "      <td>Airline Jetstar has come under fire for not pr...</td>\n",
       "      <td>Danae Florias was forced to carry her disabled...</td>\n",
       "      <td>[4, 31, 12]</td>\n",
       "      <td>[8, 50, 21]</td>\n",
       "    </tr>\n",
       "  </tbody>\n",
       "</table>\n",
       "<p>10000 rows × 5 columns</p>\n",
       "</div>"
      ],
      "text/plain": [
       "                                            id  \\\n",
       "0     0001d1afc246a7964130f43ae940af6bc6c57f01   \n",
       "1     0002095e55fcbd3a2f366d9bf92a95433dc305ef   \n",
       "2     00027e965c8264c35cc1bc55556db388da82b07f   \n",
       "3     0002c17436637c4fe1837c935c04de47adb18e9a   \n",
       "4     0003ad6ef0c37534f80b55b4235108024b407f0b   \n",
       "...                                        ...   \n",
       "9995  1c5f649f94e8f20b6fe624a842302208b781edbc   \n",
       "9996  1c5f8a16032bff0ac292e80d33d9c473323db7aa   \n",
       "9997  1c6060b597d97f86d96e7df9ecfc29517f7bbae4   \n",
       "9998  1c613f908ae6868f2d43cfe5ac75c5d35bfd734b   \n",
       "9999  1c61b5bd8b09b4f3a26aa740a7f7e11814fd2e61   \n",
       "\n",
       "                                                article  \\\n",
       "0     By . Associated Press . PUBLISHED: . 14:11 EST...   \n",
       "1     (CNN) -- Ralph Mata was an internal affairs li...   \n",
       "2     A drunk driver who killed a young woman in a h...   \n",
       "3     (CNN) -- With a breezy sweep of his pen Presid...   \n",
       "4     Fleetwood are the only team still to have a 10...   \n",
       "...                                                 ...   \n",
       "9995  A renowned poet was murdered by her stepson in...   \n",
       "9996  (Health.com) -- A class of injectable drugs us...   \n",
       "9997  By . Rob Cooper . A mother who accidentally lo...   \n",
       "9998  They are hated by many as an eyesore on the co...   \n",
       "9999  Airline Jetstar has come under fire for not pr...   \n",
       "\n",
       "                                             highlights  \\\n",
       "0     Bishop John Folda, of North Dakota, is taking ...   \n",
       "1     Criminal complaint: Cop used his role to help ...   \n",
       "2     Craig Eccleston-Todd, 27, had drunk at least t...   \n",
       "3     Nina dos Santos says Europe must be ready to a...   \n",
       "4     Fleetwood top of League One after 2-0 win at S...   \n",
       "...                                                 ...   \n",
       "9995  Police found writer's body dead after family r...   \n",
       "9996  The research contradicts numerous earlier stud...   \n",
       "9997  Nicola Millar, 36, was unable to pay the fee a...   \n",
       "9998  Google is developing  machines which will be t...   \n",
       "9999  Danae Florias was forced to carry her disabled...   \n",
       "\n",
       "        most_similar_indices             bin_indices  \n",
       "0                [11, 11, 7]            [43, 43, 29]  \n",
       "1                  [6, 0, 3]             [20, 3, 12]  \n",
       "2          [5, 17, 3, 16, 6]     [10, 28, 7, 26, 11]  \n",
       "3               [13, 14, 19]            [32, 35, 46]  \n",
       "4     [0, 2, 15, 18, 20, 22]  [3, 7, 34, 40, 44, 48]  \n",
       "...                      ...                     ...  \n",
       "9995         [1, 5, 0, 6, 0]       [6, 17, 3, 20, 3]  \n",
       "9996              [1, 6, 13]             [4, 11, 22]  \n",
       "9997          [3, 6, 15, 23]         [7, 12, 26, 39]  \n",
       "9998         [4, 14, 10, 15]        [12, 36, 27, 39]  \n",
       "9999             [4, 31, 12]             [8, 50, 21]  \n",
       "\n",
       "[10000 rows x 5 columns]"
      ]
     },
     "execution_count": 15,
     "metadata": {},
     "output_type": "execute_result"
    }
   ],
   "source": [
    "data"
   ]
  },
  {
   "cell_type": "code",
   "execution_count": 38,
   "metadata": {},
   "outputs": [
    {
     "data": {
      "text/plain": [
       "(33, 94352)"
      ]
     },
     "execution_count": 38,
     "metadata": {},
     "output_type": "execute_result"
    }
   ],
   "source": [
    "article_text = data.loc[9996, 'article']\n",
    "article_sentences = preprocess(article_text)\n",
    "\n",
    "article_tfidf = vectorizer.transform(article_sentences)\n",
    "article_tfidf.toarray().shape"
   ]
  },
  {
   "cell_type": "code",
   "execution_count": 39,
   "metadata": {},
   "outputs": [
    {
     "data": {
      "text/plain": [
       "(3, 94352)"
      ]
     },
     "execution_count": 39,
     "metadata": {},
     "output_type": "execute_result"
    }
   ],
   "source": [
    "\n",
    "highlight_text = data.loc[1, 'highlights']\n",
    "highlight_sentences = preprocess(highlight_text)\n",
    "# highlight_sentences\n",
    "highlights_tfidf = vectorizer.transform(highlight_sentences)\n",
    "highlights_tfidf.toarray().shape"
   ]
  },
  {
   "cell_type": "code",
   "execution_count": 40,
   "metadata": {},
   "outputs": [],
   "source": [
    "similarity_matrix = cosine_similarity(highlights_tfidf, article_tfidf)\n",
    "\n",
    "# 对于每个highlight，找到与其最相似的文章句子的索引\n",
    "most_similar_indices = similarity_matrix.argmax(axis=1)"
   ]
  },
  {
   "cell_type": "code",
   "execution_count": 41,
   "metadata": {},
   "outputs": [
    {
     "data": {
      "text/plain": [
       "(3, 33)"
      ]
     },
     "execution_count": 41,
     "metadata": {},
     "output_type": "execute_result"
    }
   ],
   "source": [
    "similarity_matrix.shape"
   ]
  },
  {
   "cell_type": "code",
   "execution_count": 42,
   "metadata": {},
   "outputs": [
    {
     "data": {
      "text/plain": [
       "array([ 0, 29,  0])"
      ]
     },
     "execution_count": 42,
     "metadata": {},
     "output_type": "execute_result"
    }
   ],
   "source": [
    "most_similar_indices"
   ]
  },
  {
   "cell_type": "code",
   "execution_count": 43,
   "metadata": {},
   "outputs": [
    {
     "data": {
      "text/plain": [
       "array([\"(health.com) -- a class of injectable drugs used to treat autoimmune disorders such as rheumatoid arthritis doesn't raise the risk of serious infection when compared with more conventional treatments, according to a new analysis in the journal of the american medical association.\",\n",
       "       'as he notes in his editorial, some 40% of participants taking tnf inhibitors dropped out within the first month, compared with only 15% in the comparison group.',\n",
       "       \"(health.com) -- a class of injectable drugs used to treat autoimmune disorders such as rheumatoid arthritis doesn't raise the risk of serious infection when compared with more conventional treatments, according to a new analysis in the journal of the american medical association.\"],\n",
       "      dtype='<U328')"
      ]
     },
     "execution_count": 43,
     "metadata": {},
     "output_type": "execute_result"
    }
   ],
   "source": [
    "np.array(article_sentences)[most_similar_indices] #[11]"
   ]
  },
  {
   "cell_type": "code",
   "execution_count": 44,
   "metadata": {},
   "outputs": [
    {
     "data": {
      "text/plain": [
       "['criminal complaint: cop used his role to help cocaine traffickers .',\n",
       " 'ralph mata, an internal affairs lieutenant, allegedly helped group get guns .',\n",
       " 'he also arranged to pay two assassins in a murder plot, a complaint alleges .']"
      ]
     },
     "execution_count": 44,
     "metadata": {},
     "output_type": "execute_result"
    }
   ],
   "source": [
    "highlight_sentences"
   ]
  },
  {
   "cell_type": "code",
   "execution_count": 30,
   "metadata": {},
   "outputs": [],
   "source": [
    "# vectorizer.transform(article_text)"
   ]
  },
  {
   "cell_type": "code",
   "execution_count": 27,
   "metadata": {},
   "outputs": [
    {
     "data": {
      "text/plain": [
       "\"By . Associated Press . PUBLISHED: . 14:11 EST, 25 October 2013 . | . UPDATED: . 15:36 EST, 25 October 2013 . The bishop of the Fargo Catholic Diocese in North Dakota has exposed potentially hundreds of church members in Fargo, Grand Forks and Jamestown to the hepatitis A virus in late September and early October. The state Health Department has issued an advisory of exposure for anyone who attended five churches and took communion. Bishop John Folda (pictured) of the Fargo Catholic Diocese in North Dakota has exposed potentially hundreds of church members in Fargo, Grand Forks and Jamestown to the hepatitis A . State Immunization Program Manager Molly Howell says the risk is low, but officials feel it's important to alert people to the possible exposure. The diocese announced on Monday that Bishop John Folda is taking time off after being diagnosed with hepatitis A. The diocese says he contracted the infection through contaminated food while attending a conference for newly ordained bishops in Italy last month. Symptoms of hepatitis A include fever, tiredness, loss of appetite, nausea and abdominal discomfort. Fargo Catholic Diocese in North Dakota (pictured) is where the bishop is located .\""
      ]
     },
     "execution_count": 27,
     "metadata": {},
     "output_type": "execute_result"
    }
   ],
   "source": [
    "article_text"
   ]
  },
  {
   "cell_type": "code",
   "execution_count": 28,
   "metadata": {},
   "outputs": [
    {
     "name": "stdout",
     "output_type": "stream",
     "text": [
      "['used' 'python' 'programming' 'widely' 'versatility']\n"
     ]
    }
   ],
   "source": [
    "from sklearn.feature_extraction.text import TfidfVectorizer\n",
    "import numpy as np\n",
    "\n",
    "# 示例文本\n",
    "text = [\"Python is a widely used programming language. It is popular among developers for its simplicity and versatility. Python supports multiple programming paradigms and is used in a variety of applications.\"]\n",
    "\n",
    "# 初始化TF-IDF向量化器，去除英文停用词\n",
    "vectorizer = TfidfVectorizer(stop_words='english')\n",
    "\n",
    "# 计算TF-IDF\n",
    "X = vectorizer.fit_transform(text)\n",
    "\n",
    "# 获取TF-IDF权重矩阵\n",
    "feature_array = np.array(vectorizer.get_feature_names_out())\n",
    "tfidf_sorting = np.argsort(X.toarray()).flatten()[::-1]\n",
    "\n",
    "# 选择关键词的数量\n",
    "n = 5\n",
    "\n",
    "# 获取最高TF-IDF值的前n个词汇作为关键词\n",
    "top_n = feature_array[tfidf_sorting][:n]\n",
    "\n",
    "print(top_n)\n"
   ]
  },
  {
   "cell_type": "code",
   "execution_count": null,
   "metadata": {},
   "outputs": [],
   "source": []
  },
  {
   "cell_type": "code",
   "execution_count": null,
   "metadata": {},
   "outputs": [],
   "source": []
  }
 ],
 "metadata": {
  "kernelspec": {
   "display_name": "base",
   "language": "python",
   "name": "python3"
  },
  "language_info": {
   "codemirror_mode": {
    "name": "ipython",
    "version": 3
   },
   "file_extension": ".py",
   "mimetype": "text/x-python",
   "name": "python",
   "nbconvert_exporter": "python",
   "pygments_lexer": "ipython3",
   "version": "3.11.4"
  }
 },
 "nbformat": 4,
 "nbformat_minor": 2
}
